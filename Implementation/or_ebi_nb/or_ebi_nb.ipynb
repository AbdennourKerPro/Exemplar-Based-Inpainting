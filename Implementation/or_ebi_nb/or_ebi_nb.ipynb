{
 "cells": [
  {
   "cell_type": "markdown",
   "metadata": {},
   "source": [
    "# Implémentation : \"Object Removal by Exemplar-Based Inpainting\"\n",
    "\n",
    "_Article par : A. Criminisi, P. Pérez K. Toyama_\n",
    "\n",
    "_Implémentation : Abdennour Kerboua_"
   ]
  },
  {
   "cell_type": "markdown",
   "metadata": {},
   "source": [
    "## Recueil du contour et calcul de la source et cible"
   ]
  },
  {
   "cell_type": "markdown",
   "metadata": {},
   "source": [
    "### Importations"
   ]
  },
  {
   "cell_type": "code",
   "execution_count": 6,
   "metadata": {},
   "outputs": [],
   "source": [
    "import cv2\n",
    "import numpy as np\n",
    "import time\n",
    "import matplotlib.pyplot as plt"
   ]
  },
  {
   "cell_type": "markdown",
   "metadata": {},
   "source": [
    "### Selection contour"
   ]
  },
  {
   "cell_type": "code",
   "execution_count": 50,
   "metadata": {},
   "outputs": [
    {
     "name": "stdout",
     "output_type": "stream",
     "text": [
      "Sélectionnez les points du contour en cliquant. Appuyez sur 'q' lorsque vous avez terminé.\n",
      "Contour sélectionné : [(168, 72), (187, 72), (259, 208), (252, 223), (119, 226), (104, 212), (168, 72)]\n",
      "Pixels du contour : [[ 72 168]\n",
      " [ 72 169]\n",
      " [ 72 170]\n",
      " [ 72 171]\n",
      " [ 72 172]\n",
      " [ 72 173]\n",
      " [ 72 174]\n",
      " [ 72 175]\n",
      " [ 72 176]\n",
      " [ 72 177]\n",
      " [ 72 178]\n",
      " [ 72 179]\n",
      " [ 72 180]\n",
      " [ 72 181]\n",
      " [ 72 182]\n",
      " [ 72 183]\n",
      " [ 72 184]\n",
      " [ 72 185]\n",
      " [ 72 186]\n",
      " [ 72 187]\n",
      " [ 73 168]\n",
      " [ 73 188]\n",
      " [ 74 167]\n",
      " [ 74 188]\n",
      " [ 75 167]\n",
      " [ 75 189]\n",
      " [ 76 166]\n",
      " [ 76 189]\n",
      " [ 77 166]\n",
      " [ 77 190]\n",
      " [ 78 165]\n",
      " [ 78 190]\n",
      " [ 79 165]\n",
      " [ 79 191]\n",
      " [ 80 164]\n",
      " [ 80 191]\n",
      " [ 81 164]\n",
      " [ 81 192]\n",
      " [ 82 163]\n",
      " [ 82 192]\n",
      " [ 83 163]\n",
      " [ 83 193]\n",
      " [ 84 163]\n",
      " [ 84 193]\n",
      " [ 85 162]\n",
      " [ 85 194]\n",
      " [ 86 162]\n",
      " [ 86 194]\n",
      " [ 87 161]\n",
      " [ 87 195]\n",
      " [ 88 161]\n",
      " [ 88 195]\n",
      " [ 89 160]\n",
      " [ 89 196]\n",
      " [ 90 160]\n",
      " [ 90 197]\n",
      " [ 91 159]\n",
      " [ 91 197]\n",
      " [ 92 159]\n",
      " [ 92 198]\n",
      " [ 93 158]\n",
      " [ 93 198]\n",
      " [ 94 158]\n",
      " [ 94 199]\n",
      " [ 95 157]\n",
      " [ 95 199]\n",
      " [ 96 157]\n",
      " [ 96 200]\n",
      " [ 97 157]\n",
      " [ 97 200]\n",
      " [ 98 156]\n",
      " [ 98 201]\n",
      " [ 99 156]\n",
      " [ 99 201]\n",
      " [100 155]\n",
      " [100 202]\n",
      " [101 155]\n",
      " [101 202]\n",
      " [102 154]\n",
      " [102 203]\n",
      " [103 154]\n",
      " [103 203]\n",
      " [104 153]\n",
      " [104 204]\n",
      " [105 153]\n",
      " [105 204]\n",
      " [106 152]\n",
      " [106 205]\n",
      " [107 152]\n",
      " [107 206]\n",
      " [108 152]\n",
      " [108 206]\n",
      " [109 151]\n",
      " [109 207]\n",
      " [110 151]\n",
      " [110 207]\n",
      " [111 150]\n",
      " [111 208]\n",
      " [112 150]\n",
      " [112 208]\n",
      " [113 149]\n",
      " [113 209]\n",
      " [114 149]\n",
      " [114 209]\n",
      " [115 148]\n",
      " [115 210]\n",
      " [116 148]\n",
      " [116 210]\n",
      " [117 147]\n",
      " [117 211]\n",
      " [118 147]\n",
      " [118 211]\n",
      " [119 147]\n",
      " [119 212]\n",
      " [120 146]\n",
      " [120 212]\n",
      " [121 146]\n",
      " [121 213]\n",
      " [122 145]\n",
      " [122 213]\n",
      " [123 145]\n",
      " [123 214]\n",
      " [124 144]\n",
      " [124 215]\n",
      " [125 144]\n",
      " [125 215]\n",
      " [126 143]\n",
      " [126 216]\n",
      " [127 143]\n",
      " [127 216]\n",
      " [128 142]\n",
      " [128 217]\n",
      " [129 142]\n",
      " [129 217]\n",
      " [130 141]\n",
      " [130 218]\n",
      " [131 141]\n",
      " [131 218]\n",
      " [132 141]\n",
      " [132 219]\n",
      " [133 140]\n",
      " [133 219]\n",
      " [134 140]\n",
      " [134 220]\n",
      " [135 139]\n",
      " [135 220]\n",
      " [136 139]\n",
      " [136 221]\n",
      " [137 138]\n",
      " [137 221]\n",
      " [138 138]\n",
      " [138 222]\n",
      " [139 137]\n",
      " [139 222]\n",
      " [140 137]\n",
      " [140 223]\n",
      " [141 136]\n",
      " [141 224]\n",
      " [142 136]\n",
      " [142 224]\n",
      " [143 136]\n",
      " [143 225]\n",
      " [144 135]\n",
      " [144 225]\n",
      " [145 135]\n",
      " [145 226]\n",
      " [146 134]\n",
      " [146 226]\n",
      " [147 134]\n",
      " [147 227]\n",
      " [148 133]\n",
      " [148 227]\n",
      " [149 133]\n",
      " [149 228]\n",
      " [150 132]\n",
      " [150 228]\n",
      " [151 132]\n",
      " [151 229]\n",
      " [152 131]\n",
      " [152 229]\n",
      " [153 131]\n",
      " [153 230]\n",
      " [154 131]\n",
      " [154 230]\n",
      " [155 130]\n",
      " [155 231]\n",
      " [156 130]\n",
      " [156 231]\n",
      " [157 129]\n",
      " [157 232]\n",
      " [158 129]\n",
      " [158 233]\n",
      " [159 128]\n",
      " [159 233]\n",
      " [160 128]\n",
      " [160 234]\n",
      " [161 127]\n",
      " [161 234]\n",
      " [162 127]\n",
      " [162 235]\n",
      " [163 126]\n",
      " [163 235]\n",
      " [164 126]\n",
      " [164 236]\n",
      " [165 125]\n",
      " [165 236]\n",
      " [166 125]\n",
      " [166 237]\n",
      " [167 125]\n",
      " [167 237]\n",
      " [168 124]\n",
      " [168 238]\n",
      " [169 124]\n",
      " [169 238]\n",
      " [170 123]\n",
      " [170 239]\n",
      " [171 123]\n",
      " [171 239]\n",
      " [172 122]\n",
      " [172 240]\n",
      " [173 122]\n",
      " [173 240]\n",
      " [174 121]\n",
      " [174 241]\n",
      " [175 121]\n",
      " [175 242]\n",
      " [176 120]\n",
      " [176 242]\n",
      " [177 120]\n",
      " [177 243]\n",
      " [178 120]\n",
      " [178 243]\n",
      " [179 119]\n",
      " [179 244]\n",
      " [180 119]\n",
      " [180 244]\n",
      " [181 118]\n",
      " [181 245]\n",
      " [182 118]\n",
      " [182 245]\n",
      " [183 117]\n",
      " [183 246]\n",
      " [184 117]\n",
      " [184 246]\n",
      " [185 116]\n",
      " [185 247]\n",
      " [186 116]\n",
      " [186 247]\n",
      " [187 115]\n",
      " [187 248]\n",
      " [188 115]\n",
      " [188 248]\n",
      " [189 115]\n",
      " [189 249]\n",
      " [190 114]\n",
      " [190 249]\n",
      " [191 114]\n",
      " [191 250]\n",
      " [192 113]\n",
      " [192 251]\n",
      " [193 113]\n",
      " [193 251]\n",
      " [194 112]\n",
      " [194 252]\n",
      " [195 112]\n",
      " [195 252]\n",
      " [196 111]\n",
      " [196 253]\n",
      " [197 111]\n",
      " [197 253]\n",
      " [198 110]\n",
      " [198 254]\n",
      " [199 110]\n",
      " [199 254]\n",
      " [200 109]\n",
      " [200 255]\n",
      " [201 109]\n",
      " [201 255]\n",
      " [202 109]\n",
      " [202 256]\n",
      " [203 108]\n",
      " [203 256]\n",
      " [204 108]\n",
      " [204 257]\n",
      " [205 107]\n",
      " [205 257]\n",
      " [206 107]\n",
      " [206 258]\n",
      " [207 106]\n",
      " [207 258]\n",
      " [208 106]\n",
      " [208 259]\n",
      " [209 105]\n",
      " [209 259]\n",
      " [210 105]\n",
      " [210 258]\n",
      " [211 104]\n",
      " [211 258]\n",
      " [212 104]\n",
      " [212 257]\n",
      " [213 105]\n",
      " [213 257]\n",
      " [214 106]\n",
      " [214 256]\n",
      " [215 107]\n",
      " [215 256]\n",
      " [216 108]\n",
      " [216 255]\n",
      " [217 109]\n",
      " [217 255]\n",
      " [218 110]\n",
      " [218 254]\n",
      " [219 111]\n",
      " [219 112]\n",
      " [219 254]\n",
      " [220 113]\n",
      " [220 253]\n",
      " [221 114]\n",
      " [221 253]\n",
      " [222 115]\n",
      " [222 252]\n",
      " [223 116]\n",
      " [223 230]\n",
      " [223 231]\n",
      " [223 232]\n",
      " [223 233]\n",
      " [223 234]\n",
      " [223 235]\n",
      " [223 236]\n",
      " [223 237]\n",
      " [223 238]\n",
      " [223 239]\n",
      " [223 240]\n",
      " [223 241]\n",
      " [223 242]\n",
      " [223 243]\n",
      " [223 244]\n",
      " [223 245]\n",
      " [223 246]\n",
      " [223 247]\n",
      " [223 248]\n",
      " [223 249]\n",
      " [223 250]\n",
      " [223 251]\n",
      " [223 252]\n",
      " [224 117]\n",
      " [224 186]\n",
      " [224 187]\n",
      " [224 188]\n",
      " [224 189]\n",
      " [224 190]\n",
      " [224 191]\n",
      " [224 192]\n",
      " [224 193]\n",
      " [224 194]\n",
      " [224 195]\n",
      " [224 196]\n",
      " [224 197]\n",
      " [224 198]\n",
      " [224 199]\n",
      " [224 200]\n",
      " [224 201]\n",
      " [224 202]\n",
      " [224 203]\n",
      " [224 204]\n",
      " [224 205]\n",
      " [224 206]\n",
      " [224 207]\n",
      " [224 208]\n",
      " [224 209]\n",
      " [224 210]\n",
      " [224 211]\n",
      " [224 212]\n",
      " [224 213]\n",
      " [224 214]\n",
      " [224 215]\n",
      " [224 216]\n",
      " [224 217]\n",
      " [224 218]\n",
      " [224 219]\n",
      " [224 220]\n",
      " [224 221]\n",
      " [224 222]\n",
      " [224 223]\n",
      " [224 224]\n",
      " [224 225]\n",
      " [224 226]\n",
      " [224 227]\n",
      " [224 228]\n",
      " [224 229]\n",
      " [225 118]\n",
      " [225 142]\n",
      " [225 143]\n",
      " [225 144]\n",
      " [225 145]\n",
      " [225 146]\n",
      " [225 147]\n",
      " [225 148]\n",
      " [225 149]\n",
      " [225 150]\n",
      " [225 151]\n",
      " [225 152]\n",
      " [225 153]\n",
      " [225 154]\n",
      " [225 155]\n",
      " [225 156]\n",
      " [225 157]\n",
      " [225 158]\n",
      " [225 159]\n",
      " [225 160]\n",
      " [225 161]\n",
      " [225 162]\n",
      " [225 163]\n",
      " [225 164]\n",
      " [225 165]\n",
      " [225 166]\n",
      " [225 167]\n",
      " [225 168]\n",
      " [225 169]\n",
      " [225 170]\n",
      " [225 171]\n",
      " [225 172]\n",
      " [225 173]\n",
      " [225 174]\n",
      " [225 175]\n",
      " [225 176]\n",
      " [225 177]\n",
      " [225 178]\n",
      " [225 179]\n",
      " [225 180]\n",
      " [225 181]\n",
      " [225 182]\n",
      " [225 183]\n",
      " [225 184]\n",
      " [225 185]\n",
      " [226 119]\n",
      " [226 120]\n",
      " [226 121]\n",
      " [226 122]\n",
      " [226 123]\n",
      " [226 124]\n",
      " [226 125]\n",
      " [226 126]\n",
      " [226 127]\n",
      " [226 128]\n",
      " [226 129]\n",
      " [226 130]\n",
      " [226 131]\n",
      " [226 132]\n",
      " [226 133]\n",
      " [226 134]\n",
      " [226 135]\n",
      " [226 136]\n",
      " [226 137]\n",
      " [226 138]\n",
      " [226 139]\n",
      " [226 140]\n",
      " [226 141]]\n"
     ]
    },
    {
     "data": {
      "image/png": "[encoded data removed]",
      "text/plain": [
       "<Figure size 640x480 with 1 Axes>"
      ]
     },
     "metadata": {},
     "output_type": "display_data"
    }
   ],
   "source": [
    "img_path = 'triangle.png'\n",
    "contour = []\n",
    "\n",
    "def select_point(event, x, y, flags, param):\n",
    "    global contour\n",
    "    if event == cv2.EVENT_LBUTTONDOWN:\n",
    "        contour.append((x, y))\n",
    "        cv2.circle(img_copy, (x, y), 3, (0, 255, 0), -1)\n",
    "        cv2.imshow(\"Image\", img_copy)\n",
    "\n",
    "def close_contour(contour):\n",
    "    if contour[0] != contour[-1]:\n",
    "        contour.append(contour[0])\n",
    "    return contour\n",
    "\n",
    "def get_pixels_from_contour(contour):\n",
    "    mask = np.zeros_like(img_gray)\n",
    "    cv2.polylines(mask, [np.array(contour)], isClosed=True, color=255, thickness=1)\n",
    "    pixels = np.column_stack(np.where(mask == 255))\n",
    "    return pixels\n",
    "\n",
    "img = cv2.imread(img_path)\n",
    "\n",
    "if img is None:\n",
    "    raise ValueError(\"L'image n'a pas pu être chargée. Assurez-vous que le chemin est correct.\")\n",
    "\n",
    "img_gray = cv2.cvtColor(img, cv2.COLOR_BGR2GRAY)\n",
    "\n",
    "img_copy = img.copy()\n",
    "\n",
    "cv2.imshow(\"Image\", img_copy)\n",
    "cv2.setMouseCallback(\"Image\", select_point)\n",
    "\n",
    "print(\"Sélectionnez les points du contour en cliquant. Appuyez sur 'q' lorsque vous avez terminé.\")\n",
    "\n",
    "while True:\n",
    "    key = cv2.waitKey(1) & 0xFF\n",
    "    if key == ord('q'):\n",
    "        break\n",
    "\n",
    "cv2.destroyAllWindows()\n",
    "\n",
    "if len(contour) >= 3:\n",
    "    closed_contour = close_contour(contour)\n",
    "    pixels = get_pixels_from_contour(closed_contour)\n",
    "\n",
    "    #print(\"Contour sélectionné :\", closed_contour)\n",
    "    #print(\"Pixels du contour :\", pixels)\n",
    "\n",
    "    img_with_contour = img.copy()\n",
    "    cv2.polylines(img_with_contour, [np.array(closed_contour)], isClosed=True, color=(0, 255, 0), thickness=2)\n",
    "\n",
    "    plt.imshow(cv2.cvtColor(img_with_contour, cv2.COLOR_BGR2RGB))\n",
    "    plt.title('Contour sélectionné')\n",
    "    plt.show()\n",
    "else:\n",
    "    print(\"Sélection incomplète : au moins 3 points sont nécessaires pour un contour.\")"
   ]
  },
  {
   "cell_type": "markdown",
   "metadata": {},
   "source": [
    "### Calcul de la surface cible et source"
   ]
  },
  {
   "cell_type": "code",
   "execution_count": 51,
   "metadata": {},
   "outputs": [
    {
     "data": {
      "text/plain": [
       "<Figure size 640x480 with 0 Axes>"
      ]
     },
     "execution_count": 51,
     "metadata": {},
     "output_type": "execute_result"
    },
    {
     "data": {
      "image/png": "[encoded data removed]",
      "text/plain": [
       "<Figure size 640x480 with 1 Axes>"
      ]
     },
     "metadata": {},
     "output_type": "display_data"
    },
    {
     "data": {
      "image/png": "[encoded data removed]",
      "text/plain": [
       "<Figure size 640x480 with 1 Axes>"
      ]
     },
     "metadata": {},
     "output_type": "display_data"
    },
    {
     "data": {
      "text/plain": [
       "<Figure size 640x480 with 0 Axes>"
      ]
     },
     "metadata": {},
     "output_type": "display_data"
    }
   ],
   "source": [
    "def find_surface_and_complement(img_shape, contour):\n",
    "    mask = np.zeros(img_shape[:2], dtype=np.uint8)\n",
    "    plt.imshow(mask,cmap=\"gray\")\n",
    "    cv2.fillPoly(mask, np.array([contour]), 255)\n",
    "    plt.figure()\n",
    "    plt.imshow(mask,cmap=\"gray\")\n",
    "    surface_pixels = np.column_stack(np.where(mask == 255))\n",
    "    complement_pixels = np.column_stack(np.where(mask == 0))\n",
    "\n",
    "    return surface_pixels, complement_pixels\n",
    "\n",
    "pixels_rev=np.array([[pix[1],pix[0]] for pix in pixels])\n",
    "\n",
    "cible, source = find_surface_and_complement(img.shape,pixels_rev)\n",
    "img_in_progress = img_gray.copy()\n",
    "filled = np.zeros(img_in_progress.shape, dtype=bool)\n",
    "mask = np.zeros(img_in_progress.shape)\n",
    "for pix in source:\n",
    "    filled[pix[0],pix[1]]=True\n",
    "    mask[pix[0],pix[1]]=1\n",
    "for pix in cible:\n",
    "    img_in_progress[pix[0],pix[1]] = 0\n",
    "contour = pixels\n",
    "data_coeff = {}\n",
    "plt.figure()"
   ]
  },
  {
   "cell_type": "markdown",
   "metadata": {},
   "source": [
    "### **1a.** Caclul du front à chaque itération"
   ]
  },
  {
   "cell_type": "code",
   "execution_count": 10,
   "metadata": {},
   "outputs": [],
   "source": [
    "def calculer_front():\n",
    "    hauteur, largeur = filled.shape\n",
    "    contour = []\n",
    "\n",
    "    directions = [(-1, 0), (1, 0), (0, -1), (0, 1), (-1, -1), (-1, 1), (1, -1), (1, 1)]\n",
    "\n",
    "    for i in range(hauteur):\n",
    "        for j in range(largeur):\n",
    "            if filled[i, j] == False:\n",
    "                for di, dj in directions:\n",
    "                    ni, nj = i + di, j + dj\n",
    "                    if 0 <= ni < hauteur and 0 <= nj < largeur:\n",
    "                        if filled[ni, nj] ==True:\n",
    "                            contour.append([i,j])\n",
    "                            break\n",
    "\n",
    "    return np.array(contour)"
   ]
  },
  {
   "cell_type": "markdown",
   "metadata": {},
   "source": [
    "### **1b.** Calcul des priorités pour le contour"
   ]
  },
  {
   "cell_type": "markdown",
   "metadata": {},
   "source": [
    "#### Calcul de la confiance pour un pixel $p$ donné et fonction de mise à jour pour le contour"
   ]
  },
  {
   "cell_type": "code",
   "execution_count": 11,
   "metadata": {},
   "outputs": [],
   "source": [
    "def init_confidence(source,priority):\n",
    "    for pix in source:\n",
    "            priority[pix[0],pix[1]] = 1\n",
    "    return \"Pixel source initialisés à 1\"\n",
    "\n",
    "def maj_confidence_pix(y,x,taille_patch,confidence):\n",
    "    new_c = 0\n",
    "    hauteur, largeur = confidence.shape\n",
    "    tp2 = taille_patch//2\n",
    "    for xprime in range(max(0,x-tp2),min(largeur,x+tp2+1)):\n",
    "        for yprime in range(max(y - tp2,0),min(y+tp2+1,hauteur)):\n",
    "            if mask[yprime,xprime]==1:\n",
    "                new_c+=confidence[yprime,xprime]\n",
    "    confidence[y,x] = new_c/(taille_patch**2)\n",
    "    return\n",
    "\n",
    "def maj_confidence_contour(contour,taille_patch,confidence):\n",
    "    for pix in contour:\n",
    "        y,x = pix[0],pix[1]\n",
    "        maj_confidence_pix(y,x,taille_patch,confidence)\n",
    "    return"
   ]
  },
  {
   "cell_type": "code",
   "execution_count": 52,
   "metadata": {},
   "outputs": [
    {
     "data": {
      "text/plain": [
       "'Pixel source initialisés à 1'"
      ]
     },
     "execution_count": 52,
     "metadata": {},
     "output_type": "execute_result"
    }
   ],
   "source": [
    "# Initialisations\n",
    "taille_patch = 31\n",
    "confidence = np.zeros(img_gray.shape)\n",
    "init_confidence(source,confidence)"
   ]
  },
  {
   "cell_type": "markdown",
   "metadata": {},
   "source": [
    "#### Calcul du data coefficient"
   ]
  },
  {
   "cell_type": "code",
   "execution_count": 13,
   "metadata": {},
   "outputs": [],
   "source": [
    "def calculer_data(image, pixels):\n",
    "    image = image.astype(np.int16)\n",
    "    hauteur, largeur = image.shape\n",
    "    resultats = {}\n",
    "\n",
    "    for (y, x) in pixels:\n",
    "        gradient_x = (image[y, min(x+1, largeur-1)] - image[y, max(x-1, 0)])\n",
    "        gradient_y = (image[min(y+1, hauteur-1), x] - image[max(y-1, 0), x])\n",
    "\n",
    "        resultats[(y,x)] = (gradient_x**2 + gradient_y**2)**0.5\n",
    "        # Ajouter le calcul de la normale (même si cela n'a pas l'air d'influer)\n",
    "    return resultats"
   ]
  },
  {
   "cell_type": "markdown",
   "metadata": {},
   "source": [
    "### **2a.** Selection du pixel traité"
   ]
  },
  {
   "cell_type": "code",
   "execution_count": 14,
   "metadata": {},
   "outputs": [],
   "source": [
    "def get_prior_pixel():\n",
    "    pix = np.zeros([])\n",
    "    priomax = float('-inf')\n",
    "    for pixcand in contour:\n",
    "        prio_cand = confidence[pixcand[0],pixcand[1]] * data_coeff[(pixcand[0],pixcand[1])]\n",
    "        if prio_cand >= priomax:\n",
    "            pix = pixcand\n",
    "    return pix"
   ]
  },
  {
   "cell_type": "markdown",
   "metadata": {},
   "source": [
    "### **2b.** Calcul du meilleur patch"
   ]
  },
  {
   "cell_type": "code",
   "execution_count": 53,
   "metadata": {},
   "outputs": [],
   "source": [
    "def distance(source,x_patch,y_patch,filled,img,mask_cropped):\n",
    "    tp2 = taille_patch//2\n",
    "    hauteur,largeur = img.shape\n",
    "    patch = img[y_patch-tp2:y_patch+tp2+1,x_patch-tp2:x_patch+tp2+1]\n",
    "    patch = patch.astype(np.int64)\n",
    "    source = source.astype(np.int64)\n",
    "    diff = source - patch\n",
    "    ssd = diff**2\n",
    "    #for i in range(2*tp2+1):\n",
    "     #   for j in range(2*tp2+1):\n",
    "      #      if not filled[i,j]:\n",
    "       #         ssd[i,j] = 0\n",
    "    ssd = ssd * mask_cropped\n",
    "    res = np.sum(ssd)\n",
    "    return res"
   ]
  },
  {
   "cell_type": "code",
   "execution_count": 16,
   "metadata": {},
   "outputs": [],
   "source": [
    "def is_in_source(filled_cropped):\n",
    "    for el in filled_cropped:\n",
    "        for el2 in el:\n",
    "            if not el2:\n",
    "                return False\n",
    "    return True"
   ]
  },
  {
   "cell_type": "code",
   "execution_count": 56,
   "metadata": {},
   "outputs": [],
   "source": [
    "def get_best_patch(img,x_patch,y_patch):\n",
    "    hauteur, largeur = img.shape\n",
    "    distancemin = float('inf')\n",
    "    tp2 = taille_patch//2\n",
    "    x_opt, y_opt = taille_patch, taille_patch\n",
    "    x_min,x_max = tp2,largeur-tp2\n",
    "    y_min,y_max = tp2,hauteur-tp2\n",
    "    filled_cropped_patch = filled[y_patch-tp2:y_patch+tp2+1, x_patch-tp2:x_patch+tp2+1]\n",
    "    mask_cropped = mask[y_patch-tp2:y_patch+tp2+1, x_patch-tp2:x_patch+tp2+1]\n",
    "    for y in range(y_min,y_max):\n",
    "        for x in range(x_min,x_max):\n",
    "            source = img[y-tp2:y+tp2+1, x-tp2:x+tp2+1]\n",
    "            filled_cropped = filled[y-tp2:y+tp2+1, x-tp2:x+tp2+1]\n",
    "            if is_in_source(filled_cropped):\n",
    "                distance_cand = distance(source,x_patch,y_patch,filled_cropped_patch,img,mask_cropped)\n",
    "                if distance_cand < distancemin:\n",
    "                    x_opt,y_opt = x,y\n",
    "                    distancemin = distance_cand\n",
    "    print(x_opt,y_opt)\n",
    "    #print(distancemin)\n",
    "    return x_opt,y_opt"
   ]
  },
  {
   "cell_type": "markdown",
   "metadata": {},
   "source": [
    "### **2b.** / **3.** Copie du patch et mise a jour des pixels remplis"
   ]
  },
  {
   "cell_type": "code",
   "execution_count": 55,
   "metadata": {},
   "outputs": [],
   "source": [
    "def copie(x_source,y_source,x_patch,y_patch,img):\n",
    "    tp2 = taille_patch//2\n",
    "    nmb = 0\n",
    "    for i in range(-tp2,tp2+1):\n",
    "        for j in range(-tp2,tp2+1):\n",
    "            if (not filled[y_patch+i,x_patch + j]):\n",
    "                nmb+=1\n",
    "                img[y_patch + i,x_patch + j] = img[y_source + i,x_source+j]\n",
    "                confidence[y_patch + i,x_patch +j]=confidence[y_patch,x_patch]\n",
    "                np.append(source,[y_patch,x_patch])\n",
    "                filled[y_patch + i,x_patch + j] = True\n",
    "                mask[y_patch + i,x_patch + j] = 1\n",
    "    #print(\"Nombre de pixels copiés\",nmb)\n",
    "    return nmb"
   ]
  },
  {
   "cell_type": "markdown",
   "metadata": {},
   "source": [
    "## Algorithme final"
   ]
  },
  {
   "cell_type": "code",
   "execution_count": 57,
   "metadata": {},
   "outputs": [
    {
     "name": "stderr",
     "output_type": "stream",
     "text": [
      "Traitement des pixels:   0%|          | 0/14357 [00:00<?, ?it/s]/var/folders/x3/c14j1vdn7wj4znv2cghvl0cc0000gn/T/ipykernel_2880/3281993804.py:10: RuntimeWarning: overflow encountered in scalar add\n",
      "  resultats[(y,x)] = (gradient_x**2 + gradient_y**2)**0.5\n",
      "/var/folders/x3/c14j1vdn7wj4znv2cghvl0cc0000gn/T/ipykernel_2880/3281993804.py:10: RuntimeWarning: invalid value encountered in power\n",
      "  resultats[(y,x)] = (gradient_x**2 + gradient_y**2)**0.5\n",
      "Traitement des pixels:   3%|▎         | 492/14357 [00:01<00:51, 268.19it/s]"
     ]
    },
    {
     "name": "stdout",
     "output_type": "stream",
     "text": [
      "278 225\n"
     ]
    },
    {
     "name": "stderr",
     "output_type": "stream",
     "text": [
      "Traitement des pixels:   5%|▍         | 705/14357 [00:03<01:18, 173.88it/s]"
     ]
    },
    {
     "name": "stdout",
     "output_type": "stream",
     "text": [
      "15 15\n"
     ]
    },
    {
     "name": "stderr",
     "output_type": "stream",
     "text": [
      "Traitement des pixels:   8%|▊         | 1186/14357 [00:05<01:03, 207.33it/s]"
     ]
    },
    {
     "name": "stdout",
     "output_type": "stream",
     "text": [
      "15 15\n"
     ]
    },
    {
     "name": "stderr",
     "output_type": "stream",
     "text": [
      "Traitement des pixels:  10%|▉         | 1397/14357 [00:07<01:17, 167.75it/s]"
     ]
    },
    {
     "name": "stdout",
     "output_type": "stream",
     "text": [
      "306 224\n"
     ]
    },
    {
     "name": "stderr",
     "output_type": "stream",
     "text": [
      "Traitement des pixels:  13%|█▎        | 1878/14357 [00:09<01:03, 195.36it/s]"
     ]
    },
    {
     "name": "stdout",
     "output_type": "stream",
     "text": [
      "227 44\n"
     ]
    },
    {
     "name": "stderr",
     "output_type": "stream",
     "text": [
      "Traitement des pixels:  15%|█▍        | 2089/14357 [00:11<01:14, 164.46it/s]"
     ]
    },
    {
     "name": "stdout",
     "output_type": "stream",
     "text": [
      "76 223\n"
     ]
    },
    {
     "name": "stderr",
     "output_type": "stream",
     "text": [
      "Traitement des pixels:  16%|█▌        | 2281/14357 [00:13<01:25, 141.72it/s]"
     ]
    },
    {
     "name": "stdout",
     "output_type": "stream",
     "text": [
      "15 15\n"
     ]
    },
    {
     "name": "stderr",
     "output_type": "stream",
     "text": [
      "Traitement des pixels:  17%|█▋        | 2472/14357 [00:15<01:33, 126.69it/s]"
     ]
    },
    {
     "name": "stdout",
     "output_type": "stream",
     "text": [
      "15 15\n"
     ]
    },
    {
     "name": "stderr",
     "output_type": "stream",
     "text": [
      "Traitement des pixels:  21%|██        | 2953/14357 [00:17<01:10, 162.37it/s]"
     ]
    },
    {
     "name": "stdout",
     "output_type": "stream",
     "text": [
      "290 209\n"
     ]
    },
    {
     "name": "stderr",
     "output_type": "stream",
     "text": [
      "Traitement des pixels:  22%|██▏       | 3182/14357 [00:19<01:15, 147.87it/s]"
     ]
    },
    {
     "name": "stdout",
     "output_type": "stream",
     "text": [
      "274 209\n"
     ]
    },
    {
     "name": "stderr",
     "output_type": "stream",
     "text": [
      "Traitement des pixels:  26%|██▌       | 3663/14357 [00:21<01:00, 176.61it/s]"
     ]
    },
    {
     "name": "stdout",
     "output_type": "stream",
     "text": [
      "60 208\n"
     ]
    },
    {
     "name": "stderr",
     "output_type": "stream",
     "text": [
      "Traitement des pixels:  27%|██▋       | 3874/14357 [00:23<01:07, 155.22it/s]"
     ]
    },
    {
     "name": "stdout",
     "output_type": "stream",
     "text": [
      "15 15\n"
     ]
    },
    {
     "name": "stderr",
     "output_type": "stream",
     "text": [
      "Traitement des pixels:  30%|███       | 4355/14357 [00:25<00:55, 180.52it/s]"
     ]
    },
    {
     "name": "stdout",
     "output_type": "stream",
     "text": [
      "15 15\n"
     ]
    },
    {
     "name": "stderr",
     "output_type": "stream",
     "text": [
      "Traitement des pixels:  31%|███▏      | 4491/14357 [00:27<01:07, 146.06it/s]"
     ]
    },
    {
     "name": "stdout",
     "output_type": "stream",
     "text": [
      "83 207\n"
     ]
    },
    {
     "name": "stderr",
     "output_type": "stream",
     "text": [
      "Traitement des pixels:  32%|███▏      | 4556/14357 [00:29<01:27, 111.46it/s]"
     ]
    },
    {
     "name": "stdout",
     "output_type": "stream",
     "text": [
      "15 15\n"
     ]
    },
    {
     "name": "stderr",
     "output_type": "stream",
     "text": [
      "Traitement des pixels:  34%|███▎      | 4844/14357 [00:31<01:19, 120.21it/s]"
     ]
    },
    {
     "name": "stdout",
     "output_type": "stream",
     "text": [
      "15 15\n"
     ]
    },
    {
     "name": "stderr",
     "output_type": "stream",
     "text": [
      "Traitement des pixels:  37%|███▋      | 5325/14357 [00:33<00:58, 154.13it/s]"
     ]
    },
    {
     "name": "stdout",
     "output_type": "stream",
     "text": [
      "302 193\n"
     ]
    },
    {
     "name": "stderr",
     "output_type": "stream",
     "text": [
      "Traitement des pixels:  39%|███▊      | 5554/14357 [00:35<01:02, 140.86it/s]"
     ]
    },
    {
     "name": "stdout",
     "output_type": "stream",
     "text": [
      "286 193\n"
     ]
    },
    {
     "name": "stderr",
     "output_type": "stream",
     "text": [
      "Traitement des pixels:  42%|████▏     | 6035/14357 [00:37<00:49, 168.28it/s]"
     ]
    },
    {
     "name": "stdout",
     "output_type": "stream",
     "text": [
      "67 192\n"
     ]
    },
    {
     "name": "stderr",
     "output_type": "stream",
     "text": [
      "Traitement des pixels:  43%|████▎     | 6171/14357 [00:40<00:59, 136.96it/s]"
     ]
    },
    {
     "name": "stdout",
     "output_type": "stream",
     "text": [
      "51 192\n"
     ]
    },
    {
     "name": "stderr",
     "output_type": "stream",
     "text": [
      "Traitement des pixels:  45%|████▌     | 6491/14357 [00:42<00:55, 141.42it/s]"
     ]
    },
    {
     "name": "stdout",
     "output_type": "stream",
     "text": [
      "15 15\n"
     ]
    },
    {
     "name": "stderr",
     "output_type": "stream",
     "text": [
      "Traitement des pixels:  46%|████▌     | 6612/14357 [00:44<01:06, 116.09it/s]"
     ]
    },
    {
     "name": "stdout",
     "output_type": "stream",
     "text": [
      "89 191\n"
     ]
    },
    {
     "name": "stderr",
     "output_type": "stream",
     "text": [
      "Traitement des pixels:  49%|████▊     | 6971/14357 [00:46<00:55, 132.26it/s]"
     ]
    },
    {
     "name": "stdout",
     "output_type": "stream",
     "text": [
      "271 185\n",
      "82 267\n"
     ]
    },
    {
     "name": "stderr",
     "output_type": "stream",
     "text": [
      "Traitement des pixels:  52%|█████▏    | 7456/14357 [00:50<00:55, 124.03it/s]"
     ]
    },
    {
     "name": "stdout",
     "output_type": "stream",
     "text": [
      "15 15\n"
     ]
    },
    {
     "name": "stderr",
     "output_type": "stream",
     "text": [
      "Traitement des pixels:  53%|█████▎    | 7640/14357 [00:52<00:58, 114.66it/s]"
     ]
    },
    {
     "name": "stdout",
     "output_type": "stream",
     "text": [
      "293 177\n"
     ]
    },
    {
     "name": "stderr",
     "output_type": "stream",
     "text": [
      "Traitement des pixels:  57%|█████▋    | 8121/14357 [00:54<00:43, 143.55it/s]"
     ]
    },
    {
     "name": "stdout",
     "output_type": "stream",
     "text": [
      "73 176\n"
     ]
    },
    {
     "name": "stderr",
     "output_type": "stream",
     "text": [
      "Traitement des pixels:  57%|█████▋    | 8242/14357 [00:57<00:51, 119.72it/s]"
     ]
    },
    {
     "name": "stdout",
     "output_type": "stream",
     "text": [
      "57 176\n"
     ]
    },
    {
     "name": "stderr",
     "output_type": "stream",
     "text": [
      "Traitement des pixels:  59%|█████▉    | 8435/14357 [00:59<00:53, 111.11it/s]"
     ]
    },
    {
     "name": "stdout",
     "output_type": "stream",
     "text": [
      "106 176\n"
     ]
    },
    {
     "name": "stderr",
     "output_type": "stream",
     "text": [
      "Traitement des pixels:  59%|█████▉    | 8466/14357 [01:01<01:10, 83.72it/s] "
     ]
    },
    {
     "name": "stdout",
     "output_type": "stream",
     "text": [
      "153 54\n"
     ]
    },
    {
     "name": "stderr",
     "output_type": "stream",
     "text": [
      "Traitement des pixels:  61%|██████▏   | 8805/14357 [01:03<00:52, 105.39it/s]"
     ]
    },
    {
     "name": "stdout",
     "output_type": "stream",
     "text": [
      "276 169\n"
     ]
    },
    {
     "name": "stderr",
     "output_type": "stream",
     "text": [
      "Traitement des pixels:  65%|██████▍   | 9286/14357 [01:05<00:36, 140.21it/s]"
     ]
    },
    {
     "name": "stdout",
     "output_type": "stream",
     "text": [
      "15 15\n"
     ]
    },
    {
     "name": "stderr",
     "output_type": "stream",
     "text": [
      "Traitement des pixels:  66%|██████▌   | 9479/14357 [01:07<00:38, 125.22it/s]"
     ]
    },
    {
     "name": "stdout",
     "output_type": "stream",
     "text": [
      "15 15\n"
     ]
    },
    {
     "name": "stderr",
     "output_type": "stream",
     "text": [
      "Traitement des pixels:  69%|██████▉   | 9960/14357 [01:09<00:28, 154.09it/s]"
     ]
    },
    {
     "name": "stdout",
     "output_type": "stream",
     "text": [
      "73 160\n"
     ]
    },
    {
     "name": "stderr",
     "output_type": "stream",
     "text": [
      "Traitement des pixels:  70%|██████▉   | 9991/14357 [01:12<00:38, 112.51it/s]"
     ]
    },
    {
     "name": "stdout",
     "output_type": "stream",
     "text": [
      "15 15\n"
     ]
    },
    {
     "name": "stderr",
     "output_type": "stream",
     "text": [
      "Traitement des pixels:  70%|███████   | 10072/14357 [01:14<00:47, 90.04it/s]"
     ]
    },
    {
     "name": "stdout",
     "output_type": "stream",
     "text": [
      "97 160\n"
     ]
    },
    {
     "name": "stderr",
     "output_type": "stream",
     "text": [
      "Traitement des pixels:  73%|███████▎  | 10409/14357 [01:16<00:36, 109.36it/s]"
     ]
    },
    {
     "name": "stdout",
     "output_type": "stream",
     "text": [
      "15 15\n"
     ]
    },
    {
     "name": "stderr",
     "output_type": "stream",
     "text": [
      "Traitement des pixels:  76%|███████▌  | 10890/14357 [01:18<00:24, 142.22it/s]"
     ]
    },
    {
     "name": "stdout",
     "output_type": "stream",
     "text": [
      "15 15\n"
     ]
    },
    {
     "name": "stderr",
     "output_type": "stream",
     "text": [
      "Traitement des pixels:  77%|███████▋  | 11011/14357 [01:20<00:28, 115.98it/s]"
     ]
    },
    {
     "name": "stdout",
     "output_type": "stream",
     "text": [
      "15 15\n"
     ]
    },
    {
     "name": "stderr",
     "output_type": "stream",
     "text": [
      "Traitement des pixels:  79%|███████▉  | 11318/14357 [01:23<00:24, 122.97it/s]"
     ]
    },
    {
     "name": "stdout",
     "output_type": "stream",
     "text": [
      "15 15\n"
     ]
    },
    {
     "name": "stderr",
     "output_type": "stream",
     "text": [
      "Traitement des pixels:  80%|███████▉  | 11469/14357 [01:25<00:27, 106.40it/s]"
     ]
    },
    {
     "name": "stdout",
     "output_type": "stream",
     "text": [
      "15 15\n"
     ]
    },
    {
     "name": "stderr",
     "output_type": "stream",
     "text": [
      "Traitement des pixels:  81%|████████▏ | 11689/14357 [01:27<00:25, 104.08it/s]"
     ]
    },
    {
     "name": "stdout",
     "output_type": "stream",
     "text": [
      "225 266\n"
     ]
    },
    {
     "name": "stderr",
     "output_type": "stream",
     "text": [
      "Traitement des pixels:  85%|████████▍ | 12170/14357 [01:29<00:15, 137.57it/s]"
     ]
    },
    {
     "name": "stdout",
     "output_type": "stream",
     "text": [
      "15 15\n"
     ]
    },
    {
     "name": "stderr",
     "output_type": "stream",
     "text": [
      "Traitement des pixels:  86%|████████▌ | 12363/14357 [01:31<00:16, 122.05it/s]"
     ]
    },
    {
     "name": "stdout",
     "output_type": "stream",
     "text": [
      "238 99\n"
     ]
    },
    {
     "name": "stderr",
     "output_type": "stream",
     "text": [
      "Traitement des pixels:  87%|████████▋ | 12558/14357 [01:34<00:16, 111.42it/s]"
     ]
    },
    {
     "name": "stdout",
     "output_type": "stream",
     "text": [
      "287 253\n"
     ]
    },
    {
     "name": "stderr",
     "output_type": "stream",
     "text": [
      "Traitement des pixels:  89%|████████▉ | 12788/14357 [01:36<00:14, 108.22it/s]"
     ]
    },
    {
     "name": "stdout",
     "output_type": "stream",
     "text": [
      "230 249\n"
     ]
    },
    {
     "name": "stderr",
     "output_type": "stream",
     "text": [
      "Traitement des pixels:  91%|█████████▏| 13104/14357 [01:38<00:10, 117.38it/s]"
     ]
    },
    {
     "name": "stdout",
     "output_type": "stream",
     "text": [
      "272 237\n"
     ]
    },
    {
     "name": "stderr",
     "output_type": "stream",
     "text": [
      "Traitement des pixels:  93%|█████████▎| 13360/14357 [01:41<00:08, 115.76it/s]"
     ]
    },
    {
     "name": "stdout",
     "output_type": "stream",
     "text": [
      "15 15\n"
     ]
    },
    {
     "name": "stderr",
     "output_type": "stream",
     "text": [
      "Traitement des pixels:  96%|█████████▌| 13712/14357 [01:43<00:05, 126.92it/s]"
     ]
    },
    {
     "name": "stdout",
     "output_type": "stream",
     "text": [
      "196 28\n",
      "225 229\n"
     ]
    },
    {
     "name": "stderr",
     "output_type": "stream",
     "text": [
      "Traitement des pixels:  97%|█████████▋| 13903/14357 [01:48<00:05, 86.99it/s] "
     ]
    },
    {
     "name": "stdout",
     "output_type": "stream",
     "text": [
      "136 220\n"
     ]
    },
    {
     "name": "stderr",
     "output_type": "stream",
     "text": [
      "Traitement des pixels:  98%|█████████▊| 14024/14357 [01:50<00:04, 77.56it/s]"
     ]
    },
    {
     "name": "stdout",
     "output_type": "stream",
     "text": [
      "15 15\n"
     ]
    },
    {
     "name": "stderr",
     "output_type": "stream",
     "text": [
      "Traitement des pixels:  99%|█████████▉| 14260/14357 [01:52<00:01, 82.79it/s]"
     ]
    },
    {
     "name": "stdout",
     "output_type": "stream",
     "text": [
      "15 15\n"
     ]
    },
    {
     "name": "stderr",
     "output_type": "stream",
     "text": [
      "Traitement des pixels: 100%|█████████▉| 14339/14357 [01:55<00:00, 68.99it/s]"
     ]
    },
    {
     "name": "stdout",
     "output_type": "stream",
     "text": [
      "15 15\n"
     ]
    },
    {
     "name": "stderr",
     "output_type": "stream",
     "text": [
      "Traitement des pixels: 100%|██████████| 14357/14357 [01:57<00:00, 121.99it/s]"
     ]
    },
    {
     "name": "stdout",
     "output_type": "stream",
     "text": [
      "15 15\n"
     ]
    },
    {
     "name": "stderr",
     "output_type": "stream",
     "text": [
      "\n"
     ]
    }
   ],
   "source": [
    "from tqdm import tqdm\n",
    "with tqdm(total=cible.shape[0], desc=\"Traitement des pixels\") as pbar:\n",
    "    while filled[filled==False].shape[0] !=0:\n",
    "        #t1 = time.time()\n",
    "        maj_confidence_contour(contour,taille_patch,confidence)\n",
    "        #print(\"Après calcul de confidence =\",time.time()-t1)\n",
    "        #t2 = time.time()\n",
    "        data_coeff = calculer_data(img_gray,contour)\n",
    "        #print(\"Après calcul du data =\",time.time()-t2)\n",
    "        #t3 = time.time()\n",
    "        pix = get_prior_pixel()\n",
    "        #print(\"Après calcul du pixel traité =\",time.time()-t3)\n",
    "        #t4 = time.time()\n",
    "        y_patch,x_patch = pix[0],pix[1]\n",
    "        x_opt, y_opt=get_best_patch(img_in_progress,x_patch,y_patch)\n",
    "        #print(\"Après calcul du meilleur patch =\",time.time()-t4)\n",
    "        #t5 = time.time()\n",
    "        res = copie(x_opt,y_opt,x_patch,y_patch,img_in_progress)\n",
    "        pbar.update(res)\n",
    "        #print(\"Après copie =\",time.time()-t5)\n",
    "        #t6 = time.time()\n",
    "        #print(\"nombre de pixels non-traités :\",filled[filled==False].shape[0])\n",
    "        contour=calculer_front()\n",
    "        #print(\"Après calcul du front =\",time.time()-t6)"
   ]
  },
  {
   "cell_type": "code",
   "execution_count": 49,
   "metadata": {},
   "outputs": [
    {
     "data": {
      "text/plain": [
       "<matplotlib.image.AxesImage at 0x1371f2c60>"
      ]
     },
     "execution_count": 49,
     "metadata": {},
     "output_type": "execute_result"
    },
    {
     "data": {
      "image/png": "[encoded data removed]",
      "text/plain": [
       "<Figure size 640x480 with 1 Axes>"
      ]
     },
     "metadata": {},
     "output_type": "display_data"
    }
   ],
   "source": [
    "cv2.imwrite(\"image_res_triangle.png\",img_in_progress)\n",
    "plt.imshow(img_in_progress,cmap=\"gray\")"
   ]
  },
  {
   "cell_type": "code",
   "execution_count": 38,
   "metadata": {},
   "outputs": [
    {
     "name": "stdout",
     "output_type": "stream",
     "text": [
      "[[1. 1. 1. 1. 1. 1. 1. 1. 1.]\n",
      " [1. 1. 1. 1. 1. 1. 1. 1. 1.]\n",
      " [1. 1. 1. 1. 1. 1. 1. 1. 1.]\n",
      " [1. 1. 1. 1. 1. 1. 1. 1. 1.]\n",
      " [1. 1. 1. 1. 0. 1. 1. 1. 1.]\n",
      " [1. 1. 1. 0. 0. 0. 1. 1. 1.]\n",
      " [1. 1. 1. 0. 0. 0. 1. 1. 1.]\n",
      " [1. 1. 0. 0. 0. 0. 0. 1. 1.]\n",
      " [1. 1. 0. 0. 0. 0. 0. 1. 1.]]\n",
      "[[ True  True  True  True  True  True  True  True  True]\n",
      " [ True  True  True  True  True  True  True  True  True]\n",
      " [ True  True  True  True  True  True  True  True  True]\n",
      " [ True  True  True  True  True  True  True  True  True]\n",
      " [ True  True  True  True False  True  True  True  True]\n",
      " [ True  True  True False False False  True  True  True]\n",
      " [ True  True  True False False False  True  True  True]\n",
      " [ True  True False False False False False  True  True]\n",
      " [ True  True False False False False False  True  True]]\n"
     ]
    },
    {
     "data": {
      "image/png": "[encoded data removed]",
      "text/plain": [
       "<Figure size 640x480 with 1 Axes>"
      ]
     },
     "metadata": {},
     "output_type": "display_data"
    }
   ],
   "source": [
    "tp2 = taille_patch//2\n",
    "y_patch,x_patch = contour[0]\n",
    "cv2.circle(img_in_progress,(x_patch,y_patch),radius=10,color=0)\n",
    "plt.imshow(img_in_progress,cmap='gray')\n",
    "print(mask[y_patch-tp2:y_patch+tp2+1, x_patch-tp2:x_patch+tp2+1])\n",
    "print(filled[y_patch-tp2:y_patch+tp2+1, x_patch-tp2:x_patch+tp2+1])"
   ]
  }
 ],
 "metadata": {
  "kernelspec": {
   "display_name": "Python 3",
   "language": "python",
   "name": "python3"
  },
  "language_info": {
   "codemirror_mode": {
    "name": "ipython",
    "version": 3
   },
   "file_extension": ".py",
   "mimetype": "text/x-python",
   "name": "python",
   "nbconvert_exporter": "python",
   "pygments_lexer": "ipython3",
   "version": "3.12.6"
  }
 },
 "nbformat": 4,
 "nbformat_minor": 2
}
